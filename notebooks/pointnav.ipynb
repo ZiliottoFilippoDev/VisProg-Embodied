{
 "cells": [
  {
   "cell_type": "code",
   "execution_count": 1,
   "metadata": {},
   "outputs": [],
   "source": [
    "import os\n",
    "import sys\n",
    "module_path = os.path.abspath(os.path.join('..'))\n",
    "if module_path not in sys.path:\n",
    "    sys.path.append(module_path)\n",
    "from PIL import Image\n",
    "from IPython.core.display import HTML\n",
    "from functools import partial"
   ]
  },
  {
   "cell_type": "code",
   "execution_count": 2,
   "metadata": {},
   "outputs": [
    {
     "name": "stderr",
     "output_type": "stream",
     "text": [
      "/home/ziliottf/anaconda3/envs/visprog/lib/python3.10/site-packages/tqdm/auto.py:21: TqdmWarning: IProgress not found. Please update jupyter and ipywidgets. See https://ipywidgets.readthedocs.io/en/stable/user_install.html\n",
      "  from .autonotebook import tqdm as notebook_tqdm\n"
     ]
    }
   ],
   "source": [
    "%reload_ext autoreload\n",
    "%autoreload 2\n",
    "from engine.utils_nav import ProgramGenerator, ProgramInterpreter\n",
    "from prompts.gqa import create_prompt"
   ]
  },
  {
   "cell_type": "code",
   "execution_count": null,
   "metadata": {},
   "outputs": [],
   "source": [
    "\n",
    "from engine.step_interpreters_nav import parse_step\n",
    "\n",
    "eval_ = \"\"\"EVAL0=EVAL(expr=\"'STOP' if {LOC0} > 0 else 'NAVIGATE'\")\"\"\"\n",
    "stop = \"\"\"STOP0=STOP(var=EVAL0)\"\"\"\n",
    "# str_2 = \"\"\"ANSWER2=EVAL(expr=\"'yes' if {ANSWER0} + {ANSWER1} > 0 else 'no'\")\"\"\"\n",
    "dict_ = parse_step(eval_, partial=False)\n",
    "dict_"
   ]
  },
  {
   "cell_type": "code",
   "execution_count": 120,
   "metadata": {},
   "outputs": [
    {
     "name": "stdout",
     "output_type": "stream",
     "text": [
      "Registering NAVIGATE step\n",
      "Registering STOP step\n",
      "Registering LOCATE step\n",
      "Registering EVAL step\n",
      "while not STOP0:\n",
      "    NAV0=NAVIGATE(image=IMAGE,goal='[5,0,0]')\n",
      "    LOC0=LOCATE(pos=NAV0)\n",
      "    EVAL0=EVAL(expr=\"'STOP' if {LOC0} else 'NAVIGATE'\")\n",
      "    STOP0=STOP(var=EVAL0)\n",
      "while not STOP1:\n",
      "    NAV1=NAVIGATE(image=IMAGE,goal='[0,0,3]')\n",
      "    LOC1=LOCATE(pos=NAV1)\n",
      "    EVAL1=EVAL(expr=\"'STOP' if {LOC1} else 'NAVIGATE'\")\n",
      "    STOP1=STOP(var=EVAL1)\n"
     ]
    }
   ],
   "source": [
    "question = \"\"\" go to [0,5,3]\"\"\"\n",
    "answer= \"\"\"while not STOP0:\n",
    "    NAV0=NAVIGATE(image=IMAGE,goal='[5,0,0]')\n",
    "    LOC0=LOCATE(pos=NAV0)\n",
    "    EVAL0=EVAL(expr=\"'STOP' if {LOC0} else 'NAVIGATE'\")\n",
    "    STOP0=STOP(var=EVAL0)\n",
    "while not STOP1:\n",
    "    NAV1=NAVIGATE(image=IMAGE,goal='[0,0,3]')\n",
    "    LOC1=LOCATE(pos=NAV1)\n",
    "    EVAL1=EVAL(expr=\"'STOP' if {LOC1} else 'NAVIGATE'\")\n",
    "    STOP1=STOP(var=EVAL1)\n",
    "\"\"\"\n",
    "\n",
    "image = Image.open('../assets/startnav.png')\n",
    "image.thumbnail((640,640),Image.Resampling.LANCZOS)\n",
    "init_state = dict(\n",
    "    IMAGE=image.convert('RGB')\n",
    ")\n",
    "\n",
    "prompter = partial(create_prompt,method='all')\n",
    "generator = ProgramGenerator(prompter=prompter, debug=True)\n",
    "\n",
    "interpreter = ProgramInterpreter(dataset='pointnav')\n",
    "prog,_ = generator.generate(dict(question=question), answer) #fake answer\n",
    "print(prog)"
   ]
  },
  {
   "cell_type": "code",
   "execution_count": 123,
   "metadata": {},
   "outputs": [
    {
     "name": "stdout",
     "output_type": "stream",
     "text": [
      "-------------\n",
      "| Trial n°1 |\n",
      "-------------\n",
      "NAVIGATE\n",
      "0.03237647012238265\n",
      "LOCATE\n",
      "EVAL\n",
      "STOP\n",
      "{'IMAGE': <PIL.Image.Image image mode=RGB size=512x512 at 0x7F355C673100>, 'NAV0': 0.03237647012238265, 'LOC0': True, 'EVAL0': 'STOP', 'STOP0': True}\n",
      "-------------\n",
      "| Trial n°1 |\n",
      "-------------\n",
      "NAVIGATE\n",
      "0.8927929461214491\n",
      "LOCATE\n",
      "EVAL\n",
      "STOP\n",
      "-------------\n",
      "| Trial n°2 |\n",
      "-------------\n",
      "NAVIGATE\n",
      "0.2437314293170343\n",
      "LOCATE\n",
      "EVAL\n",
      "STOP\n",
      "{'IMAGE': <PIL.Image.Image image mode=RGB size=512x512 at 0x7F355C673100>, 'NAV0': 0.03237647012238265, 'LOC0': True, 'EVAL0': 'STOP', 'STOP0': True, 'NAV1': 0.2437314293170343, 'LOC1': True, 'EVAL1': 'STOP', 'STOP1': True}\n"
     ]
    },
    {
     "data": {
      "text/plain": [
       "True"
      ]
     },
     "execution_count": 123,
     "metadata": {},
     "output_type": "execute_result"
    }
   ],
   "source": [
    "result, prog_state = interpreter.execute(prog,\\\n",
    "                                        init_state,\\\n",
    "                                        inspect=False)\n",
    "result"
   ]
  },
  {
   "cell_type": "code",
   "execution_count": 118,
   "metadata": {},
   "outputs": [],
   "source": [
    "answer= \"\"\"while not STOP0:\n",
    "    NAV0=NAVIGATE(image=IMAGE,goal='[5,0,0]')\n",
    "    LOC0=LOCATE(pos=NAV0)\n",
    "    EVAL0=EVAL(expr=\"'STOP' if {LOC0} else 'NAVIGATE'\")\n",
    "    STOP0=STOP(var=EVAL0)\n",
    "while not STOP1:\n",
    "    NAV1=NAVIGATE(image=IMAGE,goal='[0,0,3]')\n",
    "    LOC1=LOCATE(pos=NAV1)\n",
    "    EVAL1=EVAL(expr=\"'STOP' if {LOC1} else 'NAVIGATE'\")\n",
    "    STOP1=STOP(var=EVAL1)\n",
    "\"\"\""
   ]
  },
  {
   "cell_type": "code",
   "execution_count": 119,
   "metadata": {},
   "outputs": [
    {
     "data": {
      "text/plain": [
       "{'split1': [\"NAV0=NAVIGATE(image=IMAGE,goal='[5,0,0]')\",\n",
       "  'LOC0=LOCATE(pos=NAV0)',\n",
       "  'EVAL0=EVAL(expr=\"\\'STOP\\' if {LOC0} else \\'NAVIGATE\\'\")',\n",
       "  'STOP0=STOP(var=EVAL0)'],\n",
       " 'split2': [\"NAV1=NAVIGATE(image=IMAGE,goal='[0,0,3]')\",\n",
       "  'LOC1=LOCATE(pos=NAV1)',\n",
       "  'EVAL1=EVAL(expr=\"\\'STOP\\' if {LOC1} else \\'NAVIGATE\\'\")',\n",
       "  'STOP1=STOP(var=EVAL1)']}"
      ]
     },
     "execution_count": 119,
     "metadata": {},
     "output_type": "execute_result"
    }
   ],
   "source": [
    "import re\n",
    "def clear_splits(prog_str):\n",
    "    # Use regular expressions to find and extract the instructions with initial whitespace removed\n",
    "    instructions = re.findall(r'while not \\w+:\\n\\s*(.*?)(?=\\nwhile not|\\Z)', prog_str, re.DOTALL)\n",
    "\n",
    "    # Create a dictionary to organize the instructions\n",
    "    instructions_dict = {}\n",
    "\n",
    "    for split_counter, instr in enumerate(instructions, start=1):\n",
    "        cleaned_instruction = instr.rstrip('\\n').replace('\\\\', '')\n",
    "        cleaned_lines = [line.strip() for line in cleaned_instruction.split('\\n')]\n",
    "        instructions_dict[f'split{split_counter}'] = cleaned_lines\n",
    "\n",
    "    return instructions_dict\n",
    "\n",
    "clear_splits(answer)"
   ]
  },
  {
   "cell_type": "code",
   "execution_count": 89,
   "metadata": {},
   "outputs": [
    {
     "name": "stdout",
     "output_type": "stream",
     "text": [
      "split1:\n",
      "    NAV0=NAVIGATE(image=IMAGE,goal='[5,0,0]')\n",
      "    LOC0=LOCATE(pos=NAV0)\n",
      "    EVAL0=EVAL(expr=\"'STOP' if {LOC0} else 'NAVIGATE'\")\n",
      "    STOP0=STOP(var=EVAL0)\n",
      "split2:\n",
      "    NAV1=NAVIGATE(image=IMAGE,goal='[0,0,3]')\n",
      "    LOC1=LOCATE(pos=NAV1)\n",
      "    EVAL1=EVAL(expr=\"'STOP' if {LOC1} else 'NAVIGATE'\")\n",
      "    STOP1=STOP(var=EVAL1)\n"
     ]
    }
   ],
   "source": [
    "# Your input string\n",
    "input_str = \"\"\"while not STOP0:\n",
    "    NAV0=NAVIGATE(image=IMAGE,goal='[5,0,0]')\n",
    "    LOC0=LOCATE(pos=NAV0)\n",
    "    EVAL0=EVAL(expr=\"'STOP' if {LOC0} else 'NAVIGATE'\")\n",
    "    STOP0=STOP(var=EVAL0)\n",
    "while not STOP1:\n",
    "    NAV1=NAVIGATE(image=IMAGE,goal='[0,0,3]')\n",
    "    LOC1=LOCATE(pos=NAV1)\n",
    "    EVAL1=EVAL(expr=\"'STOP' if {LOC1} else 'NAVIGATE'\")\n",
    "    STOP1=STOP(var=EVAL1)\n",
    "\"\"\"\n",
    "\n",
    "# Use regular expressions to find and extract the instructions with initial whitespace removed\n",
    "instructions = re.findall(r'while not \\w+:\\n\\s*(.*?)(?=\\nwhile not|\\Z)', input_str, re.DOTALL)\n",
    "\n",
    "# Create a dictionary to organize the instructions\n",
    "instructions_dict = {}\n",
    "\n",
    "# Initialize a counter for the keys\n",
    "split_counter = 1\n",
    "\n",
    "# Remove backslashes and split the instructions, while removing leading whitespace\n",
    "for instr in instructions:\n",
    "    cleaned_instruction = instr.rstrip('\\n').replace('\\\\', '')\n",
    "    key = f'split{split_counter}'\n",
    "    lines = cleaned_instruction.split('\\n')\n",
    "    cleaned_lines = [line.strip() for line in lines]\n",
    "    instructions_dict[key] = cleaned_lines\n",
    "    split_counter += 1\n",
    "\n",
    "# Print the instructions organized in a dictionary without leading whitespace\n",
    "for key, value in instructions_dict.items():\n",
    "    print(f\"{key}:\")\n",
    "    for instr in value:\n",
    "        print(f\"    {instr}\")\n",
    "\n",
    "\n",
    "\n",
    "\n"
   ]
  },
  {
   "cell_type": "code",
   "execution_count": 90,
   "metadata": {},
   "outputs": [
    {
     "data": {
      "text/plain": [
       "[\"NAV0=NAVIGATE(image=IMAGE,goal='[5,0,0]')\",\n",
       " 'LOC0=LOCATE(pos=NAV0)',\n",
       " 'EVAL0=EVAL(expr=\"\\'STOP\\' if {LOC0} else \\'NAVIGATE\\'\")',\n",
       " 'STOP0=STOP(var=EVAL0)']"
      ]
     },
     "execution_count": 90,
     "metadata": {},
     "output_type": "execute_result"
    }
   ],
   "source": [
    "instructions_dict['split1']"
   ]
  }
 ],
 "metadata": {
  "kernelspec": {
   "display_name": "visprog",
   "language": "python",
   "name": "python3"
  },
  "language_info": {
   "codemirror_mode": {
    "name": "ipython",
    "version": 3
   },
   "file_extension": ".py",
   "mimetype": "text/x-python",
   "name": "python",
   "nbconvert_exporter": "python",
   "pygments_lexer": "ipython3",
   "version": "3.10.13"
  }
 },
 "nbformat": 4,
 "nbformat_minor": 2
}
