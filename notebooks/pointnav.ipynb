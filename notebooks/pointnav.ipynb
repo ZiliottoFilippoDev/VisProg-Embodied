{
 "cells": [
  {
   "cell_type": "code",
   "execution_count": 1,
   "metadata": {},
   "outputs": [],
   "source": [
    "import os\n",
    "import sys\n",
    "module_path = os.path.abspath(os.path.join('..'))\n",
    "if module_path not in sys.path:\n",
    "    sys.path.append(module_path)\n",
    "from PIL import Image\n",
    "from IPython.core.display import HTML\n",
    "from functools import partial"
   ]
  },
  {
   "cell_type": "code",
   "execution_count": 3,
   "metadata": {},
   "outputs": [
    {
     "name": "stderr",
     "output_type": "stream",
     "text": [
      "/home/ziliottf/anaconda3/envs/visprog/lib/python3.10/site-packages/tqdm/auto.py:21: TqdmWarning: IProgress not found. Please update jupyter and ipywidgets. See https://ipywidgets.readthedocs.io/en/stable/user_install.html\n",
      "  from .autonotebook import tqdm as notebook_tqdm\n"
     ]
    }
   ],
   "source": [
    "%reload_ext autoreload\n",
    "%autoreload 2\n",
    "from engine.utils_nav import ProgramGenerator, ProgramInterpreter\n",
    "from prompts.gqa import create_prompt"
   ]
  },
  {
   "cell_type": "code",
   "execution_count": null,
   "metadata": {},
   "outputs": [],
   "source": [
    "\n",
    "from engine.step_interpreters_nav import parse_step\n",
    "\n",
    "eval_ = \"\"\"EVAL0=EVAL(expr=\"'STOP' if {LOC0} > 0 else 'NAVIGATE'\")\"\"\"\n",
    "stop = \"\"\"STOP0=STOP(var=EVAL0)\"\"\"\n",
    "# str_2 = \"\"\"ANSWER2=EVAL(expr=\"'yes' if {ANSWER0} + {ANSWER1} > 0 else 'no'\")\"\"\"\n",
    "dict_ = parse_step(eval_, partial=False)\n",
    "dict_"
   ]
  },
  {
   "cell_type": "code",
   "execution_count": 4,
   "metadata": {},
   "outputs": [
    {
     "name": "stdout",
     "output_type": "stream",
     "text": [
      "Registering NAVIGATE step\n",
      "Registering DETECT step\n"
     ]
    },
    {
     "name": "stderr",
     "output_type": "stream",
     "text": [
      "/home/ziliottf/anaconda3/envs/visprog/lib/python3.10/site-packages/torch/cuda/__init__.py:138: UserWarning: CUDA initialization: The NVIDIA driver on your system is too old (found version 11040). Please update your GPU driver by downloading and installing a new version from the URL: http://www.nvidia.com/Download/index.aspx Alternatively, go to: https://pytorch.org to install a PyTorch version that has been compiled with your version of the CUDA driver. (Triggered internally at ../c10/cuda/CUDAFunctions.cpp:108.)\n",
      "  return torch._C._cuda_getDeviceCount() > 0\n"
     ]
    },
    {
     "name": "stdout",
     "output_type": "stream",
     "text": [
      "Registering STOP step\n",
      "Registering LOCATE step\n",
      "Registering EVAL step\n",
      "NAV0=NAVIGATE(image=START, goal='[0,10,3]')\n",
      "LOC0=LOCATE(pos=NAV0)\n",
      "EVAL0=EVAL(expr=\"'STOP' if {LOC0} else 'NAVIGATE'\")\n",
      "STOP0=STOP(var=EVAL0)\n"
     ]
    }
   ],
   "source": [
    "question = \"\"\" go to [0,10,3]\"\"\"\n",
    "answer= \"\"\"NAV0=NAVIGATE(image=START, goal='[0,10,3]')\n",
    "LOC0=LOCATE(pos=NAV0)\n",
    "EVAL0=EVAL(expr=\"'STOP' if {LOC0} else 'NAVIGATE'\")\n",
    "STOP0=STOP(var=EVAL0)\n",
    "\"\"\"\n",
    "\n",
    "image = Image.open('../assets/startnav.png')\n",
    "image.thumbnail((640,640),Image.Resampling.LANCZOS)\n",
    "init_state = dict(\n",
    "    IMAGE=image.convert('RGB')\n",
    ")\n",
    "\n",
    "prompter = partial(create_prompt,method='all')\n",
    "generator = ProgramGenerator(prompter=prompter, debug=True)\n",
    "\n",
    "interpreter = ProgramInterpreter(dataset='pointnav')\n",
    "prog,_ = generator.generate(dict(question=question), answer) #fake answer\n",
    "print(prog)"
   ]
  },
  {
   "cell_type": "code",
   "execution_count": 29,
   "metadata": {},
   "outputs": [
    {
     "name": "stdout",
     "output_type": "stream",
     "text": [
      "-------------\n",
      "| Trial n°1 |\n",
      "-------------\n",
      "NAVIGATE\n",
      "LOCATE\n",
      "EVAL\n",
      "STOP\n"
     ]
    },
    {
     "data": {
      "text/plain": [
       "True"
      ]
     },
     "execution_count": 29,
     "metadata": {},
     "output_type": "execute_result"
    }
   ],
   "source": [
    "result, prog_state = interpreter.execute(prog,\\\n",
    "                                        init_state,\\\n",
    "                                        inspect=False)\n",
    "result"
   ]
  },
  {
   "cell_type": "code",
   "execution_count": 28,
   "metadata": {},
   "outputs": [
    {
     "data": {
      "text/plain": [
       "{'IMAGE': <PIL.Image.Image image mode=RGB size=512x512>,\n",
       " 'NAV0': 1.2,\n",
       " 'LOC0': False,\n",
       " 'EVAL0': 'NAVIGATE',\n",
       " 'STOP0': False}"
      ]
     },
     "execution_count": 28,
     "metadata": {},
     "output_type": "execute_result"
    }
   ],
   "source": [
    "prog_state"
   ]
  }
 ],
 "metadata": {
  "kernelspec": {
   "display_name": "visprog",
   "language": "python",
   "name": "python3"
  },
  "language_info": {
   "codemirror_mode": {
    "name": "ipython",
    "version": 3
   },
   "file_extension": ".py",
   "mimetype": "text/x-python",
   "name": "python",
   "nbconvert_exporter": "python",
   "pygments_lexer": "ipython3",
   "version": "3.10.13"
  }
 },
 "nbformat": 4,
 "nbformat_minor": 2
}
