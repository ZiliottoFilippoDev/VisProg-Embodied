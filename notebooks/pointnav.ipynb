{
 "cells": [
  {
   "cell_type": "code",
   "execution_count": 1,
   "metadata": {},
   "outputs": [],
   "source": [
    "import os\n",
    "import sys\n",
    "module_path = os.path.abspath(os.path.join('..'))\n",
    "if module_path not in sys.path:\n",
    "    sys.path.append(module_path)\n",
    "from PIL import Image\n",
    "from IPython.core.display import HTML\n",
    "from functools import partial"
   ]
  },
  {
   "cell_type": "code",
   "execution_count": 2,
   "metadata": {},
   "outputs": [
    {
     "name": "stderr",
     "output_type": "stream",
     "text": [
      "/home/ziliottf/anaconda3/envs/visprog/lib/python3.10/site-packages/tqdm/auto.py:21: TqdmWarning: IProgress not found. Please update jupyter and ipywidgets. See https://ipywidgets.readthedocs.io/en/stable/user_install.html\n",
      "  from .autonotebook import tqdm as notebook_tqdm\n"
     ]
    }
   ],
   "source": [
    "%reload_ext autoreload\n",
    "%autoreload 2\n",
    "from engine.utils_nav import ProgramGenerator, ProgramInterpreter\n",
    "from prompts.gqa import create_prompt"
   ]
  },
  {
   "cell_type": "code",
   "execution_count": null,
   "metadata": {},
   "outputs": [],
   "source": [
    "\n",
    "from engine.step_interpreters_nav import parse_step\n",
    "\n",
    "eval_ = \"\"\"EVAL0=EVAL(expr=\"'STOP' if {LOC0} > 0 else 'NAVIGATE'\")\"\"\"\n",
    "stop = \"\"\"STOP0=STOP(var=EVAL0)\"\"\"\n",
    "# str_2 = \"\"\"ANSWER2=EVAL(expr=\"'yes' if {ANSWER0} + {ANSWER1} > 0 else 'no'\")\"\"\"\n",
    "dict_ = parse_step(eval_, partial=False)\n",
    "dict_"
   ]
  },
  {
   "cell_type": "code",
   "execution_count": 256,
   "metadata": {},
   "outputs": [
    {
     "name": "stdout",
     "output_type": "stream",
     "text": [
      "Registering NAVIGATE step\n",
      "Registering STOP step\n",
      "Registering LOCATE step\n",
      "Registering EVAL step\n",
      "while not STOP0:\n",
      "    NAV0=NAVIGATE(image=IMAGE,goal='[5,0,0]')\n",
      "    LOC0=LOCATE(pos=NAV0)\n",
      "    EVAL0=EVAL(expr=\"'STOP' if {LOC0} else 'NAVIGATE'\")\n",
      "    STOP0=STOP(var=EVAL0)\n",
      "while not STOP1:\n",
      "    NAV1=NAVIGATE(image=IMAGE,goal='[0,0,3]')\n",
      "    LOC1=LOCATE(pos=NAV1)\n",
      "    EVAL1=EVAL(expr=\"'STOP' if {LOC1} else 'NAVIGATE'\")\n",
      "    STOP1=STOP(var=EVAL1)\n"
     ]
    }
   ],
   "source": [
    "question = \"\"\" go to [0,5,3]\"\"\"\n",
    "answer= \"\"\"while not STOP0:\n",
    "    NAV0=NAVIGATE(image=IMAGE,goal='[5,0,0]')\n",
    "    LOC0=LOCATE(pos=NAV0)\n",
    "    EVAL0=EVAL(expr=\"'STOP' if {LOC0} else 'NAVIGATE'\")\n",
    "    STOP0=STOP(var=EVAL0)\n",
    "while not STOP1:\n",
    "    NAV1=NAVIGATE(image=IMAGE,goal='[0,0,3]')\n",
    "    LOC1=LOCATE(pos=NAV1)\n",
    "    EVAL1=EVAL(expr=\"'STOP' if {LOC1} else 'NAVIGATE'\")\n",
    "    STOP1=STOP(var=EVAL1)\n",
    "\"\"\"\n",
    "\n",
    "image = Image.open('../assets/startnav.png')\n",
    "image.thumbnail((640,640),Image.Resampling.LANCZOS)\n",
    "init_state = dict(\n",
    "    IMAGE=image.convert('RGB')\n",
    ")\n",
    "\n",
    "prompter = partial(create_prompt,method='all')\n",
    "generator = ProgramGenerator(prompter=prompter, debug=True)\n",
    "\n",
    "interpreter = ProgramInterpreter(dataset='pointnav')\n",
    "prog,_ = generator.generate(dict(question=question), answer) #fake answer\n",
    "print(prog)"
   ]
  },
  {
   "cell_type": "code",
   "execution_count": 300,
   "metadata": {},
   "outputs": [
    {
     "name": "stdout",
     "output_type": "stream",
     "text": [
      "-------------\n",
      "| Trial n°1 |\n",
      "-------------\n",
      "NAVIGATE\n",
      "LOCATE\n",
      "EVAL\n",
      "STOP\n",
      "-------------\n",
      "| Trial n°2 |\n",
      "-------------\n",
      "NAVIGATE\n",
      "LOCATE\n",
      "EVAL\n",
      "STOP\n",
      "-------------\n",
      "| Trial n°1 |\n",
      "-------------\n",
      "NAVIGATE\n",
      "LOCATE\n",
      "EVAL\n",
      "STOP\n",
      "-------------\n",
      "| Trial n°2 |\n",
      "-------------\n",
      "NAVIGATE\n",
      "LOCATE\n",
      "EVAL\n",
      "STOP\n"
     ]
    },
    {
     "data": {
      "text/plain": [
       "True"
      ]
     },
     "execution_count": 300,
     "metadata": {},
     "output_type": "execute_result"
    }
   ],
   "source": [
    "result, prog_state, html_str = interpreter.execute(prog,\\\n",
    "                                        init_state,\\\n",
    "                                        inspect=True)\n",
    "result"
   ]
  },
  {
   "cell_type": "code",
   "execution_count": 301,
   "metadata": {},
   "outputs": [
    {
     "name": "stdout",
     "output_type": "stream",
     "text": [
      "Question:  go to [0,5,3]\n",
      "Steps: \n",
      " while not STOP0:\n",
      "    NAV0=NAVIGATE(image=IMAGE,goal='[5,0,0]')\n",
      "    LOC0=LOCATE(pos=NAV0)\n",
      "    EVAL0=EVAL(expr=\"'STOP' if {LOC0} else 'NAVIGATE'\")\n",
      "    STOP0=STOP(var=EVAL0)\n",
      "while not STOP1:\n",
      "    NAV1=NAVIGATE(image=IMAGE,goal='[0,0,3]')\n",
      "    LOC1=LOCATE(pos=NAV1)\n",
      "    EVAL1=EVAL(expr=\"'STOP' if {LOC1} else 'NAVIGATE'\")\n",
      "    STOP1=STOP(var=EVAL1)\n",
      "\n"
     ]
    },
    {
     "data": {
      "text/html": [
       "<hr><hr><div><b><span style='color: blue;'>NAV0</span></b>=<b><span style='color: red;'>NAVIGATE</span></b>(<b><span style='color: darkorange;'>image</span></b>=<img style=\"vertical-align:middle\" src=\"data:image/jpeg;base64,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\">, <b><span style='color: darkorange;'>goal</span></b>=''[5,0,0]'')</div><hr><div><b><span style='color: blue;'>LOC0</span></b>=<b><span style='color: red;'>LOCATE</span></b>(<b><span style='color: darkorange;'>pos</span></b>='False',<b><span style='color: green;'>dist_to_goal</span></b>='0.73m')</div><hr><div><b><span style='color: blue;'>EVAL0</span></b>=<b><span style='color: red;'>EVAL</span></b>(<b><span style='color: darkorange;'>expr</span></b>='<b><span style='color: green;'>NAVIGATE</span></b>')</div><hr><div><b><span style='color: blue;'>STOP0</span></b>=<b><span style='color: red;'>STOP</span></b>(<b><span style='color: darkorange;'>var</span></b>='<b><span style='color: green;'>False</span></b>')</div><hr><div><b><span style='color: blue;'>NAV0</span></b>=<b><span style='color: red;'>NAVIGATE</span></b>(<b><span style='color: darkorange;'>image</span></b>=<img style=\"vertical-align:middle\" src=\"data:image/jpeg;base64,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\">, <b><span style='color: darkorange;'>goal</span></b>=''[5,0,0]'')</div><hr><div><b><span style='color: blue;'>LOC0</span></b>=<b><span style='color: red;'>LOCATE</span></b>(<b><span style='color: darkorange;'>pos</span></b>='True',<b><span style='color: green;'>dist_to_goal</span></b>='0.15m')</div><hr><div><b><span style='color: blue;'>EVAL0</span></b>=<b><span style='color: red;'>EVAL</span></b>(<b><span style='color: darkorange;'>expr</span></b>='<b><span style='color: green;'>STOP</span></b>')</div><hr><div><b><span style='color: blue;'>STOP0</span></b>=<b><span style='color: red;'>STOP</span></b>(<b><span style='color: darkorange;'>var</span></b>='<b><span style='color: green;'>True</span></b>')</div><hr><hr><div><b><span style='color: blue;'>NAV1</span></b>=<b><span style='color: red;'>NAVIGATE</span></b>(<b><span style='color: darkorange;'>image</span></b>=<img style=\"vertical-align:middle\" src=\"data:image/jpeg;base64,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\">, <b><span style='color: darkorange;'>goal</span></b>=''[0,0,3]'')</div><hr><div><b><span style='color: blue;'>LOC1</span></b>=<b><span style='color: red;'>LOCATE</span></b>(<b><span style='color: darkorange;'>pos</span></b>='False',<b><span style='color: green;'>dist_to_goal</span></b>='0.58m')</div><hr><div><b><span style='color: blue;'>EVAL1</span></b>=<b><span style='color: red;'>EVAL</span></b>(<b><span style='color: darkorange;'>expr</span></b>='<b><span style='color: green;'>NAVIGATE</span></b>')</div><hr><div><b><span style='color: blue;'>STOP1</span></b>=<b><span style='color: red;'>STOP</span></b>(<b><span style='color: darkorange;'>var</span></b>='<b><span style='color: green;'>False</span></b>')</div><hr><div><b><span style='color: blue;'>NAV1</span></b>=<b><span style='color: red;'>NAVIGATE</span></b>(<b><span style='color: darkorange;'>image</span></b>=<img style=\"vertical-align:middle\" src=\"data:image/jpeg;base64,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\">, <b><span style='color: darkorange;'>goal</span></b>=''[0,0,3]'')</div><hr><div><b><span style='color: blue;'>LOC1</span></b>=<b><span style='color: red;'>LOCATE</span></b>(<b><span style='color: darkorange;'>pos</span></b>='True',<b><span style='color: green;'>dist_to_goal</span></b>='0.43m')</div><hr><div><b><span style='color: blue;'>EVAL1</span></b>=<b><span style='color: red;'>EVAL</span></b>(<b><span style='color: darkorange;'>expr</span></b>='<b><span style='color: green;'>STOP</span></b>')</div><hr><div><b><span style='color: blue;'>STOP1</span></b>=<b><span style='color: red;'>STOP</span></b>(<b><span style='color: darkorange;'>var</span></b>='<b><span style='color: green;'>True</span></b>')</div><hr>"
      ],
      "text/plain": [
       "<IPython.core.display.HTML object>"
      ]
     },
     "execution_count": 301,
     "metadata": {},
     "output_type": "execute_result"
    }
   ],
   "source": [
    "print('Question:',question)\n",
    "print('Steps: \\n',answer)\n",
    "HTML(html_str)"
   ]
  },
  {
   "cell_type": "code",
   "execution_count": null,
   "metadata": {},
   "outputs": [],
   "source": []
  },
  {
   "cell_type": "code",
   "execution_count": null,
   "metadata": {},
   "outputs": [],
   "source": []
  }
 ],
 "metadata": {
  "kernelspec": {
   "display_name": "visprog",
   "language": "python",
   "name": "python3"
  },
  "language_info": {
   "codemirror_mode": {
    "name": "ipython",
    "version": 3
   },
   "file_extension": ".py",
   "mimetype": "text/x-python",
   "name": "python",
   "nbconvert_exporter": "python",
   "pygments_lexer": "ipython3",
   "version": "3.10.13"
  }
 },
 "nbformat": 4,
 "nbformat_minor": 2
}
