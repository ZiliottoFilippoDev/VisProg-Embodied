{
 "cells": [
  {
   "cell_type": "code",
   "execution_count": 1,
   "metadata": {},
   "outputs": [],
   "source": [
    "import os\n",
    "import sys\n",
    "module_path = os.path.abspath(os.path.join('..'))\n",
    "if module_path not in sys.path:\n",
    "    sys.path.append(module_path)\n",
    "from PIL import Image\n",
    "from IPython.core.display import HTML\n",
    "from functools import partial"
   ]
  },
  {
   "cell_type": "code",
   "execution_count": 6,
   "metadata": {},
   "outputs": [],
   "source": [
    "%reload_ext autoreload\n",
    "%autoreload 2\n",
    "from engine.utils_nav import ProgramGenerator, ProgramInterpreter\n",
    "from prompts.gqa import create_prompt"
   ]
  },
  {
   "cell_type": "code",
   "execution_count": null,
   "metadata": {},
   "outputs": [],
   "source": [
    "\n",
    "from engine.step_interpreters_nav import parse_step\n",
    "\n",
    "eval_ = \"\"\"EVAL0=EVAL(expr=\"'STOP' if {LOC0} > 0 else 'NAVIGATE'\")\"\"\"\n",
    "stop = \"\"\"STOP0=STOP(var=EVAL0)\"\"\"\n",
    "# str_2 = \"\"\"ANSWER2=EVAL(expr=\"'yes' if {ANSWER0} + {ANSWER1} > 0 else 'no'\")\"\"\"\n",
    "dict_ = parse_step(eval_, partial=False)\n",
    "dict_"
   ]
  },
  {
   "cell_type": "code",
   "execution_count": 71,
   "metadata": {},
   "outputs": [
    {
     "name": "stdout",
     "output_type": "stream",
     "text": [
      "Registering NAVIGATE step\n",
      "Registering DETECT step\n",
      "Registering STOP step\n",
      "Registering LOCATE step\n",
      "Registering EVAL step\n",
      "NAV0=NAVIGATE(image=START, goal='[0,10,3]')\n",
      "LOC0=LOCATE(pos=NAV0)\n",
      "EVAL0=EVAL(expr=\"'STOP' if {LOC0} else 'NAVIGATE'\")\n",
      "STOP0=STOP(var=EVAL0)\n"
     ]
    }
   ],
   "source": [
    "question = \"\"\" go to [0,10,3]\"\"\"\n",
    "answer= \"\"\"NAV0=NAVIGATE(image=START, goal='[0,10,3]')\n",
    "LOC0=LOCATE(pos=NAV0)\n",
    "EVAL0=EVAL(expr=\"'STOP' if {LOC0} else 'NAVIGATE'\")\n",
    "STOP0=STOP(var=EVAL0)\n",
    "\"\"\"\n",
    "\n",
    "image = Image.open('../assets/startnav.png')\n",
    "image.thumbnail((640,640),Image.Resampling.LANCZOS)\n",
    "init_state = dict(\n",
    "    IMAGE=image.convert('RGB')\n",
    ")\n",
    "\n",
    "prompter = partial(create_prompt,method='all')\n",
    "generator = ProgramGenerator(prompter=prompter, debug=True)\n",
    "\n",
    "interpreter = ProgramInterpreter(dataset='pointnav')\n",
    "prog,_ = generator.generate(dict(question=question), answer) #fake answer\n",
    "print(prog)"
   ]
  },
  {
   "cell_type": "code",
   "execution_count": 74,
   "metadata": {},
   "outputs": [
    {
     "name": "stdout",
     "output_type": "stream",
     "text": [
      "{'IMAGE': <PIL.Image.Image image mode=RGB size=512x512 at 0x7F2E35BEAF50>}\n",
      "NAVIGATE\n",
      "{'IMAGE': <PIL.Image.Image image mode=RGB size=512x512 at 0x7F2E35BEAF50>, 'NAV0': 0.2}\n",
      "LOCATE\n",
      "{'IMAGE': <PIL.Image.Image image mode=RGB size=512x512 at 0x7F2E35BEAF50>, 'NAV0': 0.2, 'LOC0': True}\n",
      "EVAL\n",
      "{'IMAGE': <PIL.Image.Image image mode=RGB size=512x512 at 0x7F2E35BEAF50>, 'NAV0': 0.2, 'LOC0': True, 'EVAL0': 'STOP'}\n",
      "STOP\n"
     ]
    },
    {
     "data": {
      "text/plain": [
       "True"
      ]
     },
     "execution_count": 74,
     "metadata": {},
     "output_type": "execute_result"
    }
   ],
   "source": [
    "result, prog_state = interpreter.execute(prog,\\\n",
    "                                        init_state,\\\n",
    "                                        inspect=False)\n",
    "result"
   ]
  },
  {
   "cell_type": "code",
   "execution_count": null,
   "metadata": {},
   "outputs": [],
   "source": []
  }
 ],
 "metadata": {
  "kernelspec": {
   "display_name": "visprog",
   "language": "python",
   "name": "python3"
  },
  "language_info": {
   "codemirror_mode": {
    "name": "ipython",
    "version": 3
   },
   "file_extension": ".py",
   "mimetype": "text/x-python",
   "name": "python",
   "nbconvert_exporter": "python",
   "pygments_lexer": "ipython3",
   "version": "3.10.13"
  }
 },
 "nbformat": 4,
 "nbformat_minor": 2
}
